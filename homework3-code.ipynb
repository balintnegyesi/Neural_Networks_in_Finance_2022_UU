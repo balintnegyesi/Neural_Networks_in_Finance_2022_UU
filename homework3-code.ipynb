{
 "cells": [
  {
   "cell_type": "markdown",
   "metadata": {
    "slideshow": {
     "slide_type": "slide"
    }
   },
   "source": [
    "## Homework3  -  Seminar Series Neural Networks for Finance\n"
   ]
  },
  {
   "cell_type": "code",
   "execution_count": 1,
   "metadata": {
    "ExecuteTime": {
     "end_time": "2022-02-18T19:21:46.865565Z",
     "start_time": "2022-02-18T19:21:46.459864Z"
    },
    "scrolled": true,
    "slideshow": {
     "slide_type": "slide"
    }
   },
   "outputs": [
    {
     "data": {
      "image/png": "[encoded data removed]",
      "text/plain": [
       "<Figure size 432x288 with 1 Axes>"
      ]
     },
     "metadata": {
      "needs_background": "light"
     },
     "output_type": "display_data"
    }
   ],
   "source": [
    "import torch\n",
    "import math\n",
    "import matplotlib.pyplot as plt\n",
    "import numpy as np\n",
    "\n",
    "n_samples = 5000\n",
    "x = torch.linspace(0, 1.55, steps=n_samples, requires_grad=False)\n",
    "y = torch.tan(x)\n",
    "\n",
    "plt.figure(1)\n",
    "plt.plot(x.detach(),y.detach())\n",
    "plt.xlabel('$x$')\n",
    "plt.ylabel('$y$')\n",
    "plt.title('$y=\\cos(x)$')\n",
    "plt.grid()"
   ]
  },
  {
   "cell_type": "markdown",
   "metadata": {},
   "source": [
    "**Splite the data set into two parts, training and test**"
   ]
  },
  {
   "cell_type": "code",
   "execution_count": 2,
   "metadata": {
    "ExecuteTime": {
     "end_time": "2022-02-18T19:21:49.507995Z",
     "start_time": "2022-02-18T19:21:49.484061Z"
    }
   },
   "outputs": [],
   "source": [
    "np.random.seed(0)\n",
    "indices = np.arange(0,n_samples) \n",
    "np.random.shuffle(indices) # shuffle the indicies\n",
    "\n",
    "index_split   = math.floor(0.8*n_samples)\n",
    "indices_train = indices[0:index_split]\n",
    "indices_test  = indices[index_split:-1]\n",
    "\n",
    "## create a training part and a test part\n",
    "x = torch.reshape(x, (-1, 1))\n",
    "\n",
    "x_train = x[indices_train]\n",
    "y_train = y[indices_train]\n",
    "\n",
    "x_test = x[indices_test]\n",
    "y_test = y[indices_test]\n",
    "\n",
    "x_train, y_train, x_test, y_test = map(torch.tensor, (x_train, y_train, x_test, y_test))"
   ]
  },
  {
   "cell_type": "markdown",
   "metadata": {},
   "source": [
    "**Create your neural networks**"
   ]
  },
  {
   "cell_type": "code",
   "execution_count": 3,
   "metadata": {},
   "outputs": [],
   "source": [
    "## Here build and train your ANNs"
   ]
  }
 ],
 "metadata": {
  "kernelspec": {
   "display_name": "Python 3 (ipykernel)",
   "language": "python",
   "name": "python3"
  },
  "language_info": {
   "codemirror_mode": {
    "name": "ipython",
    "version": 3
   },
   "file_extension": ".py",
   "mimetype": "text/x-python",
   "name": "python",
   "nbconvert_exporter": "python",
   "pygments_lexer": "ipython3",
   "version": "3.9.7"
  },
  "varInspector": {
   "cols": {
    "lenName": 16,
    "lenType": 16,
    "lenVar": 40
   },
   "kernels_config": {
    "python": {
     "delete_cmd_postfix": "",
     "delete_cmd_prefix": "del ",
     "library": "var_list.py",
     "varRefreshCmd": "print(var_dic_list())"
    },
    "r": {
     "delete_cmd_postfix": ") ",
     "delete_cmd_prefix": "rm(",
     "library": "var_list.r",
     "varRefreshCmd": "cat(var_dic_list()) "
    }
   },
   "oldHeight": 296.847524,
   "position": {
    "height": "39.9942px",
    "left": "1200.71px",
    "right": "20px",
    "top": "120px",
    "width": "307.002px"
   },
   "types_to_exclude": [
    "module",
    "function",
    "builtin_function_or_method",
    "instance",
    "_Feature"
   ],
   "varInspector_section_display": "none",
   "window_display": false
  }
 },
 "nbformat": 4,
 "nbformat_minor": 4
}
